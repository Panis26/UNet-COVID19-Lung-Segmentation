{
 "cells": [
  {
   "cell_type": "code",
   "execution_count": 2,
   "metadata": {},
   "outputs": [],
   "source": [
    "import nibabel as nib\n",
    "import numpy as np\n",
    "import matplotlib.pyplot as plt\n",
    "import tensorflow as tf\n",
    "from keras.models import load_model\n",
    "from ipywidgets import interact, widgets\n",
    "from keras import backend as K"
   ]
  },
  {
   "cell_type": "markdown",
   "metadata": {},
   "source": [
    "## Data Paths"
   ]
  },
  {
   "cell_type": "code",
   "execution_count": 3,
   "metadata": {},
   "outputs": [],
   "source": [
    "data_path = 'C:/Users/crist/OneDrive/Desktop/universidad/octavo/tesis/data_objetivo/'"
   ]
  },
  {
   "cell_type": "code",
   "execution_count": 21,
   "metadata": {},
   "outputs": [],
   "source": [
    "datasets = {\n",
    "    'coronacases patient 1': (data_path + 'images2/coronacases_001.nii', data_path + 'masks_covid/coronacases_001.nii'),\n",
    "    'coronacases patient 2': (data_path + 'images2/coronacases_002.nii', data_path + 'masks_covid/coronacases_002.nii'),\n",
    "    'coronacases patient 3': (data_path + 'images2/coronacases_003.nii', data_path + 'masks_covid/coronacases_003.nii'),\n",
    "    'coronacases patient 4': (data_path + 'images2/coronacases_004.nii', data_path + 'masks_covid/coronacases_004.nii'),\n",
    "    'coronacases patient 5': (data_path + 'images2/coronacases_005.nii', data_path + 'masks_covid/coronacases_005.nii'),\n",
    "    'coronacases patient 6': (data_path + 'images2/coronacases_006.nii', data_path + 'masks_covid/coronacases_006.nii'),\n",
    "    'coronacases patient 7': (data_path + 'images2/coronacases_007.nii', data_path + 'masks_covid/coronacases_007.nii'),\n",
    "    'coronacases patient 8': (data_path + 'images2/coronacases_008.nii', data_path + 'masks_covid/coronacases_008.nii'),\n",
    "    'coronacases patient 9': (data_path + 'images2/coronacases_009.nii', data_path + 'masks_covid/coronacases_009.nii'),\n",
    "    'coronacases patient 10': (data_path + 'images2/coronacases_010.nii', data_path + 'masks_covid/coronacases_010.nii')\n",
    "}"
   ]
  },
  {
   "cell_type": "code",
   "execution_count": 22,
   "metadata": {},
   "outputs": [],
   "source": [
    "models = {\n",
    "    'Coronacases Unet': data_path + '/modelos/prueba/mo_coronacases.keras',\n",
    "    'Coronacases Att U-Net': data_path + '/modelos/prueba/mo_att_coronacases.keras',\n",
    "    'Coronacases R2U-Net': data_path + '/modelos/prueba/mo_r2_coronacases.keras',\n",
    "    'Coronacases Att R2U-Net': data_path + '/modelos/prueba/mo_att_r2_coronacases.keras'\n",
    "}"
   ]
  },
  {
   "cell_type": "markdown",
   "metadata": {},
   "source": [
    "## Load Data"
   ]
  },
  {
   "cell_type": "code",
   "execution_count": 13,
   "metadata": {},
   "outputs": [],
   "source": [
    "def load_nii_mosmed(file_path):\n",
    "    img_e = nib.load(file_path).get_fdata()\n",
    "    ms_e_path = file_path.replace('.', '_mask.')\n",
    "    ms_e = nib.load(ms_e_path).get_fdata()\n",
    "    cant = img_e.shape[2]\n",
    "\n",
    "    img_list = []\n",
    "    msk_list = []\n",
    "\n",
    "    for i in range(cant):\n",
    "        im = img_e[:, :, i]\n",
    "        ms = ms_e[:, :, i]\n",
    "        \n",
    "        if np.sum(ms) > 0:\n",
    "            img_list.append(im)\n",
    "            msk_list.append(ms)\n",
    "\n",
    "    return img_list, msk_list\n",
    "\n",
    "def load_nii_coronacases(filepath, maskpath):\n",
    "    img_e = nib.load(filepath).get_fdata()\n",
    "    ms_e = nib.load(maskpath).get_fdata()\n",
    "    cant_im = img_e.shape[2]\n",
    "\n",
    "    img_list = []\n",
    "    msk_list = []\n",
    "\n",
    "    for i in range(cant_im):\n",
    "        im = img_e[:, :, i]\n",
    "        ms = ms_e[:, :, i]\n",
    "\n",
    "        if np.sum(ms) > 0:\n",
    "            img_list.append(im)\n",
    "            msk_list.append(ms)\n",
    "\n",
    "    return img_list, msk_list"
   ]
  },
  {
   "cell_type": "markdown",
   "metadata": {},
   "source": [
    "## Preprocessing"
   ]
  },
  {
   "cell_type": "code",
   "execution_count": 7,
   "metadata": {},
   "outputs": [],
   "source": [
    "def resize_image(image, mask):\n",
    "    image = np.expand_dims(image, axis=-1)\n",
    "    mask = np.expand_dims(mask, axis=-1)\n",
    "    image = tf.keras.preprocessing.image.smart_resize(image, (128, 128), interpolation='bilinear')\n",
    "    mask = tf.keras.preprocessing.image.smart_resize(mask, (128, 128), interpolation='bilinear')\n",
    "    mask = (mask > 0.5).astype(int)\n",
    "    return image, mask"
   ]
  },
  {
   "cell_type": "markdown",
   "metadata": {},
   "source": [
    "## Predict"
   ]
  },
  {
   "cell_type": "code",
   "execution_count": 8,
   "metadata": {},
   "outputs": [],
   "source": [
    "def show_image_masks(image, true_mask, pred_mask, dice_score):\n",
    "    fig, axes = plt.subplots(1, 3, figsize=(18, 6))\n",
    "\n",
    "    #Original Image\n",
    "    axes[0].imshow(image, cmap='gray')\n",
    "    axes[0].set_title('Original Image')\n",
    "    axes[0].axis('off')\n",
    "    \n",
    "    #Overlay True Mask\n",
    "    true_overlay = np.ma.masked_where(true_mask == 0, true_mask)\n",
    "    axes[1].imshow(image, cmap='gray')\n",
    "    axes[1].imshow(true_overlay, cmap='hsv', alpha=0.5)\n",
    "    axes[1].set_title('True Mask Overlay')\n",
    "    axes[1].axis('off')\n",
    "\n",
    "    #Overlay Predicted Mask\n",
    "    pred_overlay = np.ma.masked_where(pred_mask == 0, pred_mask)\n",
    "    axes[2].imshow(image, cmap='gray')\n",
    "    axes[2].imshow(pred_overlay, cmap='hsv', alpha=0.5)\n",
    "    axes[2].set_title('Predicted Mask Overlay')\n",
    "    axes[2].axis('off')\n",
    "\n",
    "\n",
    "    # DSC\n",
    "    fig.suptitle(f'Dice Coefficient: {dice_score:.2%}', fontsize=16)\n",
    "    plt.show()"
   ]
  },
  {
   "cell_type": "code",
   "execution_count": 9,
   "metadata": {},
   "outputs": [],
   "source": [
    "def binary_prob(prob_mask, umbral=0.3375):\n",
    "    msk_pred = np.expand_dims(prob_mask[0, :, :, 1], axis=-1)\n",
    "    msk_pred = (msk_pred > umbral).astype(int)\n",
    "    return msk_pred\n",
    "\n",
    "def predict_image(model, img, umbral=0.3375):\n",
    "    img = np.expand_dims(img, axis=0)\n",
    "    prob_mask = model.predict(img,verbose=0)\n",
    "    msk_pred = binary_prob(prob_mask, umbral)\n",
    "    return msk_pred\n",
    "\n",
    "def show_predict(model, img, msk, dice, umbral=0.3375):\n",
    "    img = np.expand_dims(img, axis=0)\n",
    "    prob_mask = model.predict(img, verbose=0)\n",
    "    msk_pred = binary_prob(prob_mask, umbral)\n",
    "    img_true = msk\n",
    "    img = np.squeeze(img, axis=0)\n",
    "    show_image_masks(img, img_true, msk_pred, dice)"
   ]
  },
  {
   "cell_type": "code",
   "execution_count": 10,
   "metadata": {},
   "outputs": [],
   "source": [
    "def dice_coefficient(image1, image2):\n",
    "    intersection = np.logical_and(image1, image2)\n",
    "    intersection_sum = np.sum(intersection)\n",
    "    image1_sum = np.sum(image1)\n",
    "    image2_sum = np.sum(image2)\n",
    "\n",
    "    if (image1_sum + image2_sum) == 0:\n",
    "        dice = 0\n",
    "    else:\n",
    "        dice = (2.0 * intersection_sum) / (image1_sum + image2_sum)\n",
    "\n",
    "    return dice"
   ]
  },
  {
   "cell_type": "code",
   "execution_count": 15,
   "metadata": {},
   "outputs": [],
   "source": [
    "def get_img_list_length(dataset_name):\n",
    "    data = dataset_name.split(' ')[0].lower()\n",
    "    if data == 'coronacases':\n",
    "        img_path, msk_path = datasets[dataset_name]\n",
    "        img_list, _ = load_nii_coronacases(img_path, msk_path)\n",
    "    elif data == 'mosmed':\n",
    "        img_path = datasets[dataset_name]\n",
    "        img_list, _ = load_nii_mosmed(img_path)\n",
    "    return len(img_list)"
   ]
  },
  {
   "cell_type": "markdown",
   "metadata": {},
   "source": [
    "## Result"
   ]
  },
  {
   "cell_type": "code",
   "execution_count": 23,
   "metadata": {},
   "outputs": [
    {
     "data": {
      "application/vnd.jupyter.widget-view+json": {
       "model_id": "b466e0adea14479cb17db57ed041959a",
       "version_major": 2,
       "version_minor": 0
      },
      "text/plain": [
       "interactive(children=(Dropdown(description='Model:', options=('Coronacases Unet', 'Coronacases Att U-Net', 'Co…"
      ]
     },
     "metadata": {},
     "output_type": "display_data"
    },
    {
     "data": {
      "text/plain": [
       "<function __main__.interactive_plot(model_name, dataset_name, slice_idx)>"
      ]
     },
     "execution_count": 23,
     "metadata": {},
     "output_type": "execute_result"
    }
   ],
   "source": [
    "import keras.backend as K\n",
    "def interactive_plot(model_name, dataset_name, slice_idx):\n",
    "    model_path = models[model_name]\n",
    "    model = load_model(model_path, compile=False)\n",
    "    data = model_name.split(' ')[0].lower()\n",
    "\n",
    "    if data == 'coronacases':\n",
    "        img_path, msk_path = datasets[dataset_name]\n",
    "        img_list, msk_list = load_nii_coronacases(img_path, msk_path)\n",
    "    elif data == 'mosmed':\n",
    "        img_path = datasets[dataset_name]\n",
    "        img_list, msk_list = load_nii_mosmed(img_path)\n",
    "\n",
    "    img, msk = resize_image(img_list[slice_idx], msk_list[slice_idx])\n",
    "    img_pred = predict_image(model, img)\n",
    "    dice = dice_coefficient(msk, img_pred)\n",
    "    show_predict(model, img, msk, dice)\n",
    "\n",
    "def update_slice_idx_range(dataset_name):\n",
    "    max_idx = get_img_list_length(dataset_name) - 1\n",
    "    slice_idx_slider.max = max_idx\n",
    "\n",
    "dataset_name_dropdown = widgets.Dropdown(options=datasets.keys(), description='Dataset:')\n",
    "slice_idx_slider = widgets.IntSlider(min=0, max=50, step=1, description='Slice:')\n",
    "model_name_dropdown = widgets.Dropdown(options=models.keys(), description='Model:')\n",
    "\n",
    "def on_dataset_change(change):\n",
    "    update_slice_idx_range(change['new'])\n",
    "\n",
    "dataset_name_dropdown.observe(on_dataset_change, names='value')\n",
    "\n",
    "interact(\n",
    "    interactive_plot,\n",
    "    model_name=model_name_dropdown,\n",
    "    dataset_name=dataset_name_dropdown,\n",
    "    slice_idx=slice_idx_slider\n",
    ")"
   ]
  }
 ],
 "metadata": {
  "kernelspec": {
   "display_name": "unet",
   "language": "python",
   "name": "python3"
  },
  "language_info": {
   "codemirror_mode": {
    "name": "ipython",
    "version": 3
   },
   "file_extension": ".py",
   "mimetype": "text/x-python",
   "name": "python",
   "nbconvert_exporter": "python",
   "pygments_lexer": "ipython3",
   "version": "3.9.19"
  }
 },
 "nbformat": 4,
 "nbformat_minor": 2
}
