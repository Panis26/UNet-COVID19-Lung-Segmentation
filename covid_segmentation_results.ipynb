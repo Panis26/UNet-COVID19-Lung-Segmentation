{
 "cells": [
  {
   "cell_type": "markdown",
   "metadata": {},
   "source": [
    "### tools"
   ]
  },
  {
   "cell_type": "code",
   "execution_count": 7,
   "metadata": {},
   "outputs": [],
   "source": [
    "import nibabel as nib\n",
    "import numpy as np\n",
    "import matplotlib.pyplot as plt\n",
    "import tensorflow as tf\n",
    "from keras.models import load_model\n",
    "from ipywidgets import interact, widgets\n",
    "from keras import backend as K"
   ]
  },
  {
   "cell_type": "markdown",
   "metadata": {},
   "source": [
    "## Data Paths"
   ]
  },
  {
   "cell_type": "code",
   "execution_count": 11,
   "metadata": {},
   "outputs": [],
   "source": [
    "# paths\n",
    "corona_img_path = './data/coronacases/images/'\n",
    "corona_mask_path = './data/coronacases/masks/'\n",
    "mosmed_img_path = './data/mosmed/images/'\n",
    "mosmed_mask_path = './data/mosmed/masks/'"
   ]
  },
  {
   "cell_type": "code",
   "execution_count": 12,
   "metadata": {},
   "outputs": [],
   "source": [
    "# .nii file path for each patient slices\n",
    "datasets = {\n",
    "    # Coronacases patients slices\n",
    "    'coronacases patient 1': (corona_img_path + 'coronacases_001.nii', corona_mask_path + 'coronacases_001.nii'),\n",
    "    'coronacases patient 2': (corona_img_path + 'coronacases_002.nii', corona_mask_path + 'coronacases_002.nii'),\n",
    "    'coronacases patient 3': (corona_img_path + 'coronacases_003.nii', corona_mask_path + 'coronacases_003.nii'),\n",
    "    'coronacases patient 4': (corona_img_path + 'coronacases_004.nii', corona_mask_path + 'coronacases_004.nii'),\n",
    "    'coronacases patient 5': (corona_img_path + 'coronacases_005.nii', corona_mask_path + 'coronacases_005.nii'),\n",
    "\n",
    "    # Mosmed patients slices\n",
    "    'mosmed patient 1': (mosmed_img_path + 'study_0255.nii', mosmed_mask_path + 'study_0255.nii'),\n",
    "    'mosmed patient 2': (mosmed_img_path + 'study_0256.nii', mosmed_mask_path + 'study_0256.nii'),\n",
    "    'mosmed patient 3': (mosmed_img_path + 'study_0257.nii', mosmed_mask_path + 'study_0257.nii'),\n",
    "    'mosmed patient 4': (mosmed_img_path + 'study_0258.nii', mosmed_mask_path + 'study_0258.nii'),\n",
    "    'mosmed patient 5': (mosmed_img_path + 'study_0259.nii', mosmed_mask_path + 'study_0259.nii'),\n",
    "}"
   ]
  },
  {
   "cell_type": "code",
   "execution_count": 13,
   "metadata": {},
   "outputs": [],
   "source": [
    "# Model paths for the different models\n",
    "models = {\n",
    "    # Coronacases models\n",
    "    'Coronacases Unet': './model/coronacases/mo_coronacases.keras',\n",
    "    'Coronacases Att U-Net': './model/coronacases/mo_att_coronacases.keras',\n",
    "    'Coronacases R2U-Net': './model/coronacases/mo_r2_coronacases.keras',\n",
    "    'Coronacases Att R2U-Net': './model/coronacases/mo_att_r2_coronacases.keras',\n",
    "\n",
    "    # Mosmed models\n",
    "    'Mosmed Unet': './model/mosmed/mo_unet.keras',\n",
    "    'Mosmed Att U-Net': './model/mosmed/mo_att.keras',\n",
    "    'Mosmed R2U-Net': './model/mosmed/mo_r2.keras',\n",
    "    'Mosmed Att R2U-Net': './model/mosmed/mo_att_r2.keras',\n",
    "}"
   ]
  },
  {
   "cell_type": "markdown",
   "metadata": {},
   "source": [
    "## Load Data"
   ]
  },
  {
   "cell_type": "code",
   "execution_count": 15,
   "metadata": {},
   "outputs": [],
   "source": [
    "# Load .nii files and return list of images and masks\n",
    "def load_nii(imgpath, maskpath):\n",
    "    img_e = nib.load(imgpath).get_fdata()\n",
    "    ms_e = nib.load(maskpath).get_fdata()\n",
    "    cant_im = img_e.shape[2]\n",
    "\n",
    "    img_list = []\n",
    "    msk_list = []\n",
    "\n",
    "    for i in range(cant_im):\n",
    "        im = img_e[:, :, i]\n",
    "        ms = ms_e[:, :, i]\n",
    "\n",
    "        if np.sum(ms) > 0:\n",
    "            img_list.append(im)\n",
    "            msk_list.append(ms)\n",
    "\n",
    "    return img_list, msk_list"
   ]
  },
  {
   "cell_type": "markdown",
   "metadata": {},
   "source": [
    "## Preprocessing"
   ]
  },
  {
   "cell_type": "code",
   "execution_count": 16,
   "metadata": {},
   "outputs": [],
   "source": [
    "# Resize the image and mask to 128x128x1, dimensions trained in the models\n",
    "def resize_image(image, mask):\n",
    "    image = np.expand_dims(image, axis=-1)\n",
    "    mask = np.expand_dims(mask, axis=-1)\n",
    "    image = tf.keras.preprocessing.image.smart_resize(image, (128, 128), interpolation='bilinear')\n",
    "    mask = tf.keras.preprocessing.image.smart_resize(mask, (128, 128), interpolation='bilinear')\n",
    "    mask = (mask > 0.5).astype(int)\n",
    "    return image, mask"
   ]
  },
  {
   "cell_type": "code",
   "execution_count": 17,
   "metadata": {},
   "outputs": [],
   "source": [
    "# Normalize fucntion for mosmed images\n",
    "def normalize(image, min_value=-1000, max_value=200):\n",
    "    img_clipped = np.clip(image, min_value, max_value)\n",
    "    img_normalized = (img_clipped - min_value) / (max_value - min_value)\n",
    "    return img_normalized"
   ]
  },
  {
   "cell_type": "markdown",
   "metadata": {},
   "source": [
    "## Predict"
   ]
  },
  {
   "cell_type": "code",
   "execution_count": 18,
   "metadata": {},
   "outputs": [],
   "source": [
    "# Given a image, mask and predicted mask show the overlay of the mask and the predicted mask in original image with a dice score given\n",
    "def show_image_masks(image, true_mask, pred_mask, dice_score):\n",
    "    fig, axes = plt.subplots(1, 3, figsize=(18, 6))\n",
    "\n",
    "    #Original Image\n",
    "    axes[0].imshow(image, cmap='gray')\n",
    "    axes[0].set_title('Original Image')\n",
    "    axes[0].axis('off')\n",
    "    \n",
    "    #Overlay True Mask\n",
    "    true_overlay = np.ma.masked_where(true_mask == 0, true_mask)\n",
    "    axes[1].imshow(image, cmap='gray')\n",
    "    axes[1].imshow(true_overlay, cmap='hsv', alpha=0.5)\n",
    "    axes[1].set_title('True Mask Overlay')\n",
    "    axes[1].axis('off')\n",
    "\n",
    "    #Overlay Predicted Mask\n",
    "    pred_overlay = np.ma.masked_where(pred_mask == 0, pred_mask)\n",
    "    axes[2].imshow(image, cmap='gray')\n",
    "    axes[2].imshow(pred_overlay, cmap='hsv', alpha=0.5)\n",
    "    axes[2].set_title('Predicted Mask Overlay')\n",
    "    axes[2].axis('off')\n",
    "\n",
    "    # DSC\n",
    "    fig.suptitle(f'Dice Coefficient: {dice_score:.2%}', fontsize=16)\n",
    "    plt.show()"
   ]
  },
  {
   "cell_type": "code",
   "execution_count": 19,
   "metadata": {},
   "outputs": [],
   "source": [
    "# Binary probability mask from the model output with a given threshold (0.3375)\n",
    "def binary_prob(prob_mask, umbral=0.3375):\n",
    "    msk_pred = np.expand_dims(prob_mask[0, :, :, 1], axis=-1)\n",
    "    msk_pred = (msk_pred > umbral).astype(int)\n",
    "    return msk_pred\n",
    "\n",
    "# Predict the mask of a given image with a given model\n",
    "def predict_image(model, img, umbral=0.3375):\n",
    "    img = np.expand_dims(img, axis=0)\n",
    "    prob_mask = model.predict(img,verbose=0)\n",
    "    msk_pred = binary_prob(prob_mask, umbral)\n",
    "    return msk_pred\n",
    "\n",
    "# Show the prediction of a given model with a given image and mask with a given dice score  \n",
    "def show_predict(model, img, msk, dice, umbral=0.3375):\n",
    "    img = np.expand_dims(img, axis=0)\n",
    "    prob_mask = model.predict(img, verbose=0)\n",
    "    msk_pred = binary_prob(prob_mask, umbral)\n",
    "    img_true = msk\n",
    "    img = np.squeeze(img, axis=0)\n",
    "    show_image_masks(img, img_true, msk_pred, dice)"
   ]
  },
  {
   "cell_type": "code",
   "execution_count": 20,
   "metadata": {},
   "outputs": [],
   "source": [
    "# Calculate the dice coefficient between two images (mask and predicted mask)\n",
    "def dice_coefficient(image1, image2):\n",
    "    intersection = np.logical_and(image1, image2)\n",
    "    intersection_sum = np.sum(intersection)\n",
    "    image1_sum = np.sum(image1)\n",
    "    image2_sum = np.sum(image2)\n",
    "\n",
    "    if (image1_sum + image2_sum) == 0:\n",
    "        dice = 0\n",
    "    else:\n",
    "        dice = (2.0 * intersection_sum) / (image1_sum + image2_sum)\n",
    "\n",
    "    return dice"
   ]
  },
  {
   "cell_type": "code",
   "execution_count": 21,
   "metadata": {},
   "outputs": [],
   "source": [
    "# Get the size of the dataset to control the slider in the interactive plot\n",
    "def get_img_list_length(dataset_name):\n",
    "\n",
    "    img_path, msk_path = datasets[dataset_name]\n",
    "    img_list, _ = load_nii(img_path, msk_path)\n",
    "    \n",
    "    return len(img_list)"
   ]
  },
  {
   "cell_type": "markdown",
   "metadata": {},
   "source": [
    "## Result"
   ]
  },
  {
   "cell_type": "code",
   "execution_count": 23,
   "metadata": {},
   "outputs": [
    {
     "data": {
      "application/vnd.jupyter.widget-view+json": {
       "model_id": "cffdcccc470b4482a3437e3dc80f24b1",
       "version_major": 2,
       "version_minor": 0
      },
      "text/plain": [
       "interactive(children=(Dropdown(description='Model:', options=('Coronacases Unet', 'Coronacases Att U-Net', 'Co…"
      ]
     },
     "metadata": {},
     "output_type": "display_data"
    },
    {
     "data": {
      "text/plain": [
       "<function __main__.interactive_plot(model_name, dataset_name, slice_idx)>"
      ]
     },
     "execution_count": 23,
     "metadata": {},
     "output_type": "execute_result"
    }
   ],
   "source": [
    "import keras.backend as K\n",
    "\n",
    "# Interactive plot to show the prediction of a given model with a given dataset and slice\n",
    "# The plot shows the original image, the mask overlay and the predicted mask overlay with the dice score\n",
    "# The plot is interactive with the model, dataset and slice\n",
    "def interactive_plot(model_name, dataset_name, slice_idx):\n",
    "    model_path = models[model_name]\n",
    "    model = load_model(model_path, compile=False)\n",
    "    data = model_name.split(' ')[0].lower()\n",
    "\n",
    "    img_path, mask_path = datasets[dataset_name]\n",
    "    img_list, msk_list = load_nii(img_path, mask_path)\n",
    "\n",
    "    if data == 'mosmed':\n",
    "        img_list = [normalize(img) for img in img_list]\n",
    "\n",
    "    img, msk = resize_image(img_list[slice_idx], msk_list[slice_idx])\n",
    "    img_pred = predict_image(model, img)\n",
    "    dice = dice_coefficient(msk, img_pred)\n",
    "    show_predict(model, img, msk, dice)\n",
    "\n",
    "# Update the slice slider range when the dataset is changed\n",
    "def update_slice_idx_range(dataset_name):\n",
    "    max_idx = get_img_list_length(dataset_name) - 1\n",
    "    slice_idx_slider.max = max_idx\n",
    "\n",
    "# Create the interactive plot with the model, dataset and slice widgets\n",
    "dataset_name_dropdown = widgets.Dropdown(options=datasets.keys(), description='Dataset:')\n",
    "slice_idx_slider = widgets.IntSlider(min=0, max=50, step=1, description='Slice:')\n",
    "model_name_dropdown = widgets.Dropdown(options=models.keys(), description='Model:')\n",
    "\n",
    "# Update the slice slider range when the dataset is changed\n",
    "def on_dataset_change(change):\n",
    "    update_slice_idx_range(change['new'])\n",
    "\n",
    "# Observe the dataset change to update the slice slider range\n",
    "dataset_name_dropdown.observe(on_dataset_change, names='value')\n",
    "\n",
    "# Show the interactive plot\n",
    "interact(\n",
    "    interactive_plot,\n",
    "    model_name=model_name_dropdown,\n",
    "    dataset_name=dataset_name_dropdown,\n",
    "    slice_idx=slice_idx_slider\n",
    ")"
   ]
  }
 ],
 "metadata": {
  "kernelspec": {
   "display_name": "unet",
   "language": "python",
   "name": "python3"
  },
  "language_info": {
   "codemirror_mode": {
    "name": "ipython",
    "version": 3
   },
   "file_extension": ".py",
   "mimetype": "text/x-python",
   "name": "python",
   "nbconvert_exporter": "python",
   "pygments_lexer": "ipython3",
   "version": "3.9.19"
  }
 },
 "nbformat": 4,
 "nbformat_minor": 2
}
